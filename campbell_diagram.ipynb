{
 "cells": [
  {
   "cell_type": "code",
   "execution_count": 1,
   "metadata": {
    "collapsed": true
   },
   "outputs": [],
   "source": [
    "import os, sys\n",
    "import numpy as np\n",
    "sys.path.append(r\"H:\\TUM-PC\\Dokumente\\Projects\\campbell_diagram\\ansys_apdl_wrapper\\ansys_apdl_wrapper\")\n",
    "\n",
    "from ansys_apdl_wrapper import pyAPDL\n",
    "\n"
   ]
  },
  {
   "cell_type": "code",
   "execution_count": 2,
   "metadata": {
    "collapsed": true
   },
   "outputs": [],
   "source": [
    "local_folder = os.getcwd()\n",
    "base_file_path = r'ansys_apdl_warpper\\base_files'\n",
    "filename = 'base_apdl_script.dat'\n",
    "filepath = os.path.join(local_folder,base_file_path,filename)\n",
    "temp_folder_prefix = 'rot_'\n",
    "\n",
    "apdl = pyAPDL(filepath,temp_folder_prefix)\n",
    "apdl.set_ansys_apdl_path(r'C:\\Program Files\\ANSYS Student\\v182\\ansys\\bin\\winx64\\ansys182.exe')\n",
    "\n",
    "def calc_freq(rot_speed):\n",
    "    \n",
    "    var_dict = {}\n",
    "    var_dict['apdl_pre_file'] = 'prep_case1'\n",
    "    var_dict['file_directory'] = base_file_path\n",
    "    var_dict['number_of_harmonics'] = 2\n",
    "    var_dict['number_of_modes'] = 4\n",
    "    var_dict['rotational_speed'] = rot_speed\n",
    "\n",
    "    folder = os.path.join(local_folder,'simulations_1')\n",
    "\n",
    "    apdl.update_input_variables(var_dict)\n",
    "    apdl.write_apdl_script(folder,rot_speed)\n",
    "\n",
    "    \n",
    "    apdl.run_simulation()\n",
    "\n",
    "    f = apdl.read_frequencies()\n",
    "    return f"
   ]
  },
  {
   "cell_type": "code",
   "execution_count": 3,
   "metadata": {
    "collapsed": true
   },
   "outputs": [],
   "source": [
    "rot_list = np.arange(1,2000,100)\n",
    "freq_list = []\n",
    "for rot in rot_list:\n",
    "    freq = calc_freq(rot)\n",
    "    freq_list.append(freq)"
   ]
  },
  {
   "cell_type": "code",
   "execution_count": 4,
   "metadata": {
    "collapsed": true
   },
   "outputs": [],
   "source": [
    "freq = np.matrix(freq_list)\n"
   ]
  },
  {
   "cell_type": "code",
   "execution_count": 5,
   "metadata": {},
   "outputs": [
    {
     "data": {
      "image/png": "[encoded data removed]",
      "text/plain": [
       "<matplotlib.figure.Figure at 0x143d1b959e8>"
      ]
     },
     "metadata": {},
     "output_type": "display_data"
    }
   ],
   "source": [
    "import matplotlib.pyplot as plt\n",
    "\n",
    "for i,freq_i in enumerate(freq_list):\n",
    "    try:\n",
    "        plt.plot(rot_list,np.array(freq.T[i]).flatten(),'o')\n",
    "    except:\n",
    "        None\n",
    "\n",
    "plt.show()"
   ]
  }
 ],
 "metadata": {
  "kernelspec": {
   "display_name": "Python 3",
   "language": "python",
   "name": "python3"
  },
  "language_info": {
   "codemirror_mode": {
    "name": "ipython",
    "version": 3
   },
   "file_extension": ".py",
   "mimetype": "text/x-python",
   "name": "python",
   "nbconvert_exporter": "python",
   "pygments_lexer": "ipython3",
   "version": "3.6.3"
  }
 },
 "nbformat": 4,
 "nbformat_minor": 2
}
